{
 "cells": [
  {
   "cell_type": "code",
   "execution_count": 1,
   "metadata": {},
   "outputs": [],
   "source": [
    "from target import QTargetIMQ\n",
    "\n",
    "import numpy as np"
   ]
  },
  {
   "cell_type": "code",
   "execution_count": 2,
   "metadata": {},
   "outputs": [
    {
     "name": "stdout",
     "output_type": "stream",
     "text": [
      "log-pdf   : -8.337877066409348\n",
      "glog-pdf  : [ 8. -5.]\n",
      "hlog-pdf  : [[-5.  3.]\n",
      " [ 3. -2.]]\n",
      "log-q-pdf : -6.05570297067543\n",
      "glog-q-pdf: [ 7.42708333 -4.64583333]\n"
     ]
    }
   ],
   "source": [
    "# Test manual IMQ class\n",
    "x_test = np.array([0., 3.])\n",
    "\n",
    "mean = np.array([1., 2.])\n",
    "cov = np.array([[2., 3.], [3., 5.]])\n",
    "\n",
    "log_p = lambda x:-np.log(2*np.pi) - 0.5*np.log(np.linalg.det(cov)) - 0.5*(x-mean)@np.linalg.inv(cov)@(x-mean)\n",
    "grad_log_p = lambda x: -np.linalg.inv(cov)@(x-mean)\n",
    "hess_log_p = lambda x: -np.linalg.inv(cov)\n",
    "linv = np.linalg.inv(cov)\n",
    "\n",
    "test_manual_imq = QTargetIMQ(log_pi=log_p, grad_log_pi=grad_log_p, hess_log_pi=hess_log_p, linv=linv)\n",
    "\n",
    "print(\"log-pdf   :\", test_manual_imq.log_pi(x_test))\n",
    "print(\"glog-pdf  :\", test_manual_imq.grad_log_pi(x_test))\n",
    "print(\"hlog-pdf  :\", test_manual_imq.hess_log_pi(x_test))\n",
    "print(\"log-q-pdf :\", test_manual_imq.log_q(x_test))\n",
    "print(\"glog-q-pdf:\", test_manual_imq.grad_log_q(x_test))"
   ]
  },
  {
   "cell_type": "code",
   "execution_count": null,
   "metadata": {},
   "outputs": [],
   "source": []
  }
 ],
 "metadata": {
  "kernelspec": {
   "display_name": "stein-q-thinning",
   "language": "python",
   "name": "python3"
  },
  "language_info": {
   "codemirror_mode": {
    "name": "ipython",
    "version": 3
   },
   "file_extension": ".py",
   "mimetype": "text/x-python",
   "name": "python",
   "nbconvert_exporter": "python",
   "pygments_lexer": "ipython3",
   "version": "3.10.4"
  },
  "orig_nbformat": 4
 },
 "nbformat": 4,
 "nbformat_minor": 2
}
