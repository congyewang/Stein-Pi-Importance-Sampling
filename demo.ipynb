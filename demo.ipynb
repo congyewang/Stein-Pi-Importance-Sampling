{
 "cells": [
  {
   "cell_type": "code",
   "execution_count": 1,
   "metadata": {},
   "outputs": [],
   "source": [
    "from target import QTargetIMQ, QTargetAuto, QTargetKGM\n",
    "\n",
    "import numpy as np\n",
    "from jax import numpy as jnp"
   ]
  },
  {
   "cell_type": "code",
   "execution_count": 2,
   "metadata": {},
   "outputs": [
    {
     "name": "stdout",
     "output_type": "stream",
     "text": [
      "log-pdf   : -8.337877066409348\n",
      "glog-pdf  : [ 8. -5.]\n",
      "hlog-pdf  : [[-5.  3.]\n",
      " [ 3. -2.]]\n",
      "log-q-pdf : -6.05570297067543\n",
      "glog-q-pdf: [ 7.42708333 -4.64583333]\n"
     ]
    }
   ],
   "source": [
    "# Test manual IMQ class\n",
    "x_test = np.array([0., 3.])\n",
    "\n",
    "mean = np.array([1., 2.])\n",
    "cov = np.array([[2., 3.], [3., 5.]])\n",
    "\n",
    "log_p = lambda x:-np.log(2*np.pi) - 0.5*np.log(np.linalg.det(cov)) - 0.5*(x-mean)@np.linalg.inv(cov)@(x-mean)\n",
    "grad_log_p = lambda x: -np.linalg.inv(cov)@(x-mean)\n",
    "hess_log_p = lambda x: -np.linalg.inv(cov)\n",
    "linv = np.linalg.inv(cov)\n",
    "\n",
    "test_manual_imq = QTargetIMQ(log_p=log_p, grad_log_p=grad_log_p, hess_log_p=hess_log_p, linv=linv)\n",
    "\n",
    "print(\"log-pdf   :\", test_manual_imq.log_p(x_test))\n",
    "print(\"glog-pdf  :\", test_manual_imq.grad_log_p(x_test))\n",
    "print(\"hlog-pdf  :\", test_manual_imq.hess_log_p(x_test))\n",
    "print(\"log-q-pdf :\", test_manual_imq.log_q(x_test))\n",
    "print(\"glog-q-pdf:\", test_manual_imq.grad_log_q(x_test))"
   ]
  },
  {
   "cell_type": "code",
   "execution_count": 3,
   "metadata": {},
   "outputs": [
    {
     "name": "stderr",
     "output_type": "stream",
     "text": [
      "No GPU/TPU found, falling back to CPU. (Set TF_CPP_MIN_LOG_LEVEL=0 and rerun for more info.)\n"
     ]
    },
    {
     "name": "stdout",
     "output_type": "stream",
     "text": [
      "log-pdf   : -8.337875\n",
      "glog-pdf  : [ 7.999998 -4.999999]\n",
      "hlog-pdf  : [[-4.9999986  2.999999 ]\n",
      " [ 2.999999  -1.9999995]]\n",
      "log-q-pdf : -6.0557013\n",
      "glog-q-pdf: [ 7.4270816 -4.6458325]\n"
     ]
    }
   ],
   "source": [
    "# Test auto IMQ class\n",
    "x_test = jnp.array([0., 3.])\n",
    "\n",
    "mean = jnp.array([1., 2.])\n",
    "cov = jnp.array([[2., 3.], [3., 5.]])\n",
    "\n",
    "log_p = lambda x:-jnp.log(2*jnp.pi) - 0.5*jnp.log(jnp.linalg.det(cov)) - 0.5*(x-mean)@jnp.linalg.inv(cov)@(x-mean)\n",
    "linv = jnp.linalg.inv(cov)\n",
    "imq_kernel = lambda x, y: (1 + (x - y)@linv@(x - y))**(-0.5)\n",
    "\n",
    "test_auto_imq = QTargetAuto(log_p=log_p, reproducing_kernel=imq_kernel)\n",
    "\n",
    "print(\"log-pdf   :\", test_auto_imq.log_p(x_test))\n",
    "print(\"glog-pdf  :\", test_auto_imq.grad_log_p(x_test))\n",
    "print(\"hlog-pdf  :\", test_auto_imq.hess_log_p(x_test))\n",
    "print(\"log-q-pdf :\", test_auto_imq.log_q(x_test))\n",
    "print(\"glog-q-pdf:\", test_auto_imq.grad_log_q(x_test))"
   ]
  },
  {
   "cell_type": "code",
   "execution_count": 4,
   "metadata": {},
   "outputs": [
    {
     "name": "stdout",
     "output_type": "stream",
     "text": [
      "log-pdf   : -8.337877066409348\n",
      "glog-pdf  : [ 8. -5.]\n",
      "hlog-pdf  : [[-5.  3.]\n",
      " [ 3. -2.]]\n",
      "log-q-pdf : -3.227615211790754\n",
      "glog-q-pdf: [ 6.36721585 -3.93922533]\n"
     ]
    }
   ],
   "source": [
    "# Test manual KGM class\n",
    "x_test = np.array([0., 3.])\n",
    "\n",
    "mean = np.array([1., 2.])\n",
    "cov = np.array([[2., 3.], [3., 5.]])\n",
    "\n",
    "log_p = lambda x:-np.log(2*np.pi) - 0.5*np.log(np.linalg.det(cov)) - 0.5*(x-mean)@np.linalg.inv(cov)@(x-mean)\n",
    "grad_log_p = lambda x: -np.linalg.inv(cov)@(x-mean)\n",
    "hess_log_p = lambda x: -np.linalg.inv(cov)\n",
    "linv = np.linalg.inv(cov)\n",
    "\n",
    "test_manual_kgm = QTargetKGM(log_p=log_p, grad_log_p=grad_log_p, hess_log_p=hess_log_p, linv=linv, s=3.0)\n",
    "\n",
    "print(\"log-pdf   :\", test_manual_kgm.log_p(x_test))\n",
    "print(\"glog-pdf  :\", test_manual_kgm.grad_log_p(x_test))\n",
    "print(\"hlog-pdf  :\", test_manual_kgm.hess_log_p(x_test))\n",
    "print(\"log-q-pdf :\", test_manual_kgm.log_q(x_test))\n",
    "print(\"glog-q-pdf:\", test_manual_kgm.grad_log_q(x_test))"
   ]
  },
  {
   "cell_type": "code",
   "execution_count": 5,
   "metadata": {},
   "outputs": [
    {
     "name": "stdout",
     "output_type": "stream",
     "text": [
      "log-pdf   : -8.337875\n",
      "glog-pdf  : [ 7.999998 -4.999999]\n",
      "hlog-pdf  : [[-4.9999986  2.999999 ]\n",
      " [ 2.999999  -1.9999995]]\n",
      "log-q-pdf : -3.227614\n",
      "glog-q-pdf: [ 6.367214  -3.9392242]\n"
     ]
    }
   ],
   "source": [
    "# Test auto KGM class\n",
    "x_test = jnp.array([0., 3.])\n",
    "\n",
    "mean = jnp.array([1., 2.])\n",
    "cov = jnp.array([[2., 3.], [3., 5.]])\n",
    "\n",
    "log_p = lambda x:-jnp.log(2*jnp.pi) - 0.5*jnp.log(jnp.linalg.det(cov)) - 0.5*(x-mean)@jnp.linalg.inv(cov)@(x-mean)\n",
    "linv = jnp.linalg.inv(cov)\n",
    "s = 3.0\n",
    "\n",
    "kgm_kernel = lambda x, y: (1 + x@linv@x)**((s-1)/2) *\\\n",
    "        (1 + y@linv@y)**((s-1)/2) *\\\n",
    "        (1 + (x-y)@linv@(x-y))**(-0.5) +\\\n",
    "        (1 + x@linv@y )/( jnp.sqrt(1+x@linv@x) * jnp.sqrt(1+y@linv@y) )\n",
    "\n",
    "test_auto_kgm = QTargetAuto(log_p=log_p, reproducing_kernel=kgm_kernel)\n",
    "\n",
    "print(\"log-pdf   :\", test_auto_kgm.log_p(x_test))\n",
    "print(\"glog-pdf  :\", test_auto_kgm.grad_log_p(x_test))\n",
    "print(\"hlog-pdf  :\", test_auto_kgm.hess_log_p(x_test))\n",
    "print(\"log-q-pdf :\", test_auto_kgm.log_q(x_test))\n",
    "print(\"glog-q-pdf:\", test_auto_kgm.grad_log_q(x_test))"
   ]
  },
  {
   "cell_type": "code",
   "execution_count": null,
   "metadata": {},
   "outputs": [],
   "source": []
  }
 ],
 "metadata": {
  "kernelspec": {
   "display_name": "stein-q-thinning",
   "language": "python",
   "name": "python3"
  },
  "language_info": {
   "codemirror_mode": {
    "name": "ipython",
    "version": 3
   },
   "file_extension": ".py",
   "mimetype": "text/x-python",
   "name": "python",
   "nbconvert_exporter": "python",
   "pygments_lexer": "ipython3",
   "version": "3.10.4"
  },
  "orig_nbformat": 4
 },
 "nbformat": 4,
 "nbformat_minor": 2
}
