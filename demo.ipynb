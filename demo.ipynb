{
 "cells": [
  {
   "attachments": {},
   "cell_type": "markdown",
   "metadata": {},
   "source": [
    "# I. Validating Class"
   ]
  },
  {
   "attachments": {},
   "cell_type": "markdown",
   "metadata": {},
   "source": [
    "Random verification of n-dimensional Gaussian models in IMQ kernel and KGM kernel."
   ]
  },
  {
   "cell_type": "code",
   "execution_count": 1,
   "metadata": {},
   "outputs": [],
   "source": [
    "from stein_q_thinning.target import QTargetIMQ, QTargetAuto, QTargetKGM\n",
    "\n",
    "import numpy as np\n",
    "from scipy.stats import wishart\n",
    "from jax import numpy as jnp\n",
    "\n",
    "np.random.seed(1234)"
   ]
  },
  {
   "cell_type": "code",
   "execution_count": 2,
   "metadata": {},
   "outputs": [
    {
     "name": "stdout",
     "output_type": "stream",
     "text": [
      "x_test: [ 0.47143516 -1.19097569  1.43270697 -0.3126519 ]\n",
      "mean  : [-0.72058873  0.88716294  0.85958841 -0.6365235 ]\n",
      "cov   : [[11.68150068  0.05364739 -7.66509583  3.39029399]\n",
      " [ 0.05364739 12.34410368  4.00531349  3.36496236]\n",
      " [-7.66509583  4.00531349 25.21091916 -9.90588931]\n",
      " [ 3.39029399  3.36496236 -9.90588931 10.75391052]]\n"
     ]
    }
   ],
   "source": [
    "dim = 4\n",
    "\n",
    "x_test = np.random.normal(size=dim)\n",
    "mean = np.random.normal(size=dim)\n",
    "cov = wishart.rvs(dim + 10, np.eye(dim), size=1)\n",
    "\n",
    "print(\"x_test:\", x_test)\n",
    "print(\"mean  :\", mean)\n",
    "print(\"cov   :\", cov)"
   ]
  },
  {
   "cell_type": "code",
   "execution_count": 3,
   "metadata": {},
   "outputs": [
    {
     "name": "stdout",
     "output_type": "stream",
     "text": [
      "log-pdf   : -7.153352187026759\n",
      "glog-pdf  : [-0.17921809  0.33648779 -0.25339807 -0.31232095]\n",
      "hlog-pdf  : [[-0.10860438  0.013307   -0.03654333 -0.0035867 ]\n",
      " [ 0.013307   -0.12428333  0.05865073  0.08871951]\n",
      " [-0.03654333  0.05865073 -0.09838846 -0.09746129]\n",
      " [-0.0035867   0.08871951 -0.09746129 -0.20939533]]\n",
      "log-q-pdf : -7.235925371128592\n",
      "glog-q-pdf: [-0.13873336  0.23413024 -0.15708047 -0.17007607]\n"
     ]
    }
   ],
   "source": [
    "# Test manual IMQ class\n",
    "log_p = lambda x:-np.log(2*np.pi) - 0.5*np.log(np.linalg.det(cov)) - 0.5*(x-mean)@np.linalg.inv(cov)@(x-mean)\n",
    "grad_log_p = lambda x: -np.linalg.inv(cov)@(x-mean)\n",
    "hess_log_p = lambda x: -np.linalg.inv(cov)\n",
    "linv = np.linalg.inv(cov)\n",
    "\n",
    "test_manual_imq = QTargetIMQ(log_p=log_p, grad_log_p=grad_log_p, hess_log_p=hess_log_p, linv=linv)\n",
    "\n",
    "print(\"log-pdf   :\", test_manual_imq.log_p(x_test))\n",
    "print(\"glog-pdf  :\", test_manual_imq.grad_log_p(x_test))\n",
    "print(\"hlog-pdf  :\", test_manual_imq.hess_log_p(x_test))\n",
    "print(\"log-q-pdf :\", test_manual_imq.log_q(x_test))\n",
    "print(\"glog-q-pdf:\", test_manual_imq.grad_log_q(x_test))"
   ]
  },
  {
   "cell_type": "code",
   "execution_count": 4,
   "metadata": {},
   "outputs": [
    {
     "name": "stderr",
     "output_type": "stream",
     "text": [
      "No GPU/TPU found, falling back to CPU. (Set TF_CPP_MIN_LOG_LEVEL=0 and rerun for more info.)\n"
     ]
    },
    {
     "ename": "TypeError",
     "evalue": "QTargetAuto.__init__() got an unexpected keyword argument 'reproducing_kernel'",
     "output_type": "error",
     "traceback": [
      "\u001b[0;31m---------------------------------------------------------------------------\u001b[0m",
      "\u001b[0;31mTypeError\u001b[0m                                 Traceback (most recent call last)",
      "Cell \u001b[0;32mIn[4], line 6\u001b[0m\n\u001b[1;32m      3\u001b[0m linv \u001b[39m=\u001b[39m jnp\u001b[39m.\u001b[39mlinalg\u001b[39m.\u001b[39minv(cov)\n\u001b[1;32m      4\u001b[0m imq_kernel \u001b[39m=\u001b[39m \u001b[39mlambda\u001b[39;00m x, y: (\u001b[39m1\u001b[39m \u001b[39m+\u001b[39m (x \u001b[39m-\u001b[39m y)\u001b[39m@linv\u001b[39m\u001b[39m@\u001b[39m(x \u001b[39m-\u001b[39m y))\u001b[39m*\u001b[39m\u001b[39m*\u001b[39m(\u001b[39m-\u001b[39m\u001b[39m0.5\u001b[39m)\n\u001b[0;32m----> 6\u001b[0m test_auto_imq \u001b[39m=\u001b[39m QTargetAuto(log_p\u001b[39m=\u001b[39;49mlog_p, reproducing_kernel\u001b[39m=\u001b[39;49mimq_kernel)\n\u001b[1;32m      8\u001b[0m \u001b[39mprint\u001b[39m(\u001b[39m\"\u001b[39m\u001b[39mlog-pdf   :\u001b[39m\u001b[39m\"\u001b[39m, test_auto_imq\u001b[39m.\u001b[39mlog_p(x_test))\n\u001b[1;32m      9\u001b[0m \u001b[39mprint\u001b[39m(\u001b[39m\"\u001b[39m\u001b[39mglog-pdf  :\u001b[39m\u001b[39m\"\u001b[39m, test_auto_imq\u001b[39m.\u001b[39mgrad_log_p(x_test))\n",
      "\u001b[0;31mTypeError\u001b[0m: QTargetAuto.__init__() got an unexpected keyword argument 'reproducing_kernel'"
     ]
    }
   ],
   "source": [
    "# Test auto IMQ class\n",
    "log_p = lambda x:-jnp.log(2*jnp.pi) - 0.5*jnp.log(jnp.linalg.det(cov)) - 0.5*(x-mean)@jnp.linalg.inv(cov)@(x-mean)\n",
    "linv = jnp.linalg.inv(cov)\n",
    "imq_kernel = lambda x, y: (1 + (x - y)@linv@(x - y))**(-0.5)\n",
    "\n",
    "test_auto_imq = QTargetAuto(log_p=log_p, reproducing_kernel=imq_kernel)\n",
    "\n",
    "print(\"log-pdf   :\", test_auto_imq.log_p(x_test))\n",
    "print(\"glog-pdf  :\", test_auto_imq.grad_log_p(x_test))\n",
    "print(\"hlog-pdf  :\", test_auto_imq.hess_log_p(x_test))\n",
    "print(\"log-q-pdf :\", test_auto_imq.log_q(x_test))\n",
    "print(\"glog-q-pdf:\", test_auto_imq.grad_log_q(x_test))"
   ]
  },
  {
   "cell_type": "code",
   "execution_count": null,
   "metadata": {},
   "outputs": [],
   "source": [
    "# Test manual KGM class\n",
    "log_p = lambda x:-np.log(2*np.pi) - 0.5*np.log(np.linalg.det(cov)) - 0.5*(x-mean)@np.linalg.inv(cov)@(x-mean)\n",
    "grad_log_p = lambda x: -np.linalg.inv(cov)@(x-mean)\n",
    "hess_log_p = lambda x: -np.linalg.inv(cov)\n",
    "linv = np.linalg.inv(cov)\n",
    "\n",
    "test_manual_kgm = QTargetKGM(log_p=log_p, grad_log_p=grad_log_p, hess_log_p=hess_log_p, linv=linv, s=3.0)\n",
    "\n",
    "print(\"log-pdf   :\", test_manual_kgm.log_p(x_test))\n",
    "print(\"glog-pdf  :\", test_manual_kgm.grad_log_p(x_test))\n",
    "print(\"hlog-pdf  :\", test_manual_kgm.hess_log_p(x_test))\n",
    "print(\"log-q-pdf :\", test_manual_kgm.log_q(x_test))\n",
    "print(\"glog-q-pdf:\", test_manual_kgm.grad_log_q(x_test))"
   ]
  },
  {
   "cell_type": "code",
   "execution_count": null,
   "metadata": {},
   "outputs": [],
   "source": [
    "# Test auto KGM class\n",
    "s = 3.0\n",
    "linv = jnp.linalg.inv(cov)\n",
    "log_p = lambda x:-jnp.log(2*jnp.pi) - 0.5*jnp.log(jnp.linalg.det(cov)) - 0.5*(x-mean)@jnp.linalg.inv(cov)@(x-mean)\n",
    "\n",
    "kgm_kernel = lambda x, y: (1 + x@linv@x)**((s-1)/2) *\\\n",
    "        (1 + y@linv@y)**((s-1)/2) *\\\n",
    "        (1 + (x-y)@linv@(x-y))**(-0.5) +\\\n",
    "        (1 + x@linv@y )/( jnp.sqrt(1+x@linv@x) * jnp.sqrt(1+y@linv@y) )\n",
    "\n",
    "test_auto_kgm = QTargetAuto(log_p=log_p, reproducing_kernel=kgm_kernel)\n",
    "\n",
    "print(\"log-pdf   :\", test_auto_kgm.log_p(x_test))\n",
    "print(\"glog-pdf  :\", test_auto_kgm.grad_log_p(x_test))\n",
    "print(\"hlog-pdf  :\", test_auto_kgm.hess_log_p(x_test))\n",
    "print(\"log-q-pdf :\", test_auto_kgm.log_q(x_test))\n",
    "print(\"glog-q-pdf:\", test_auto_kgm.grad_log_q(x_test))"
   ]
  },
  {
   "attachments": {},
   "cell_type": "markdown",
   "metadata": {},
   "source": [
    "# II. Verifying Non-Python Objects"
   ]
  },
  {
   "attachments": {},
   "cell_type": "markdown",
   "metadata": {},
   "source": [
    "Verifying the Availability of Black-Box Log-Posterior Distributions and their Gradients Compiled by Stan"
   ]
  },
  {
   "cell_type": "code",
   "execution_count": null,
   "metadata": {},
   "outputs": [],
   "source": [
    "import os\n",
    "import json\n",
    "import pandas as pd\n",
    "from stein_q_thinning.util import flat\n",
    "import bridgestan as bs\n",
    "from posteriordb import PosteriorDatabase"
   ]
  },
  {
   "cell_type": "code",
   "execution_count": null,
   "metadata": {},
   "outputs": [],
   "source": [
    "# Load DataBase Locally\n",
    "pdb_path = os.path.join(os.getcwd(), \"posteriordb/posterior_database\")\n",
    "my_pdb = PosteriorDatabase(pdb_path)\n",
    "\n",
    "# Load Dataset\n",
    "posterior = my_pdb.posterior(\"eight_schools-eight_schools_centered\")\n",
    "stan = posterior.model.stan_code_file_path()\n",
    "data = json.dumps(posterior.data.values())\n",
    "model = bs.StanModel.from_stan_file(stan, data)\n",
    "\n",
    "# Gold Standard\n",
    "gs = posterior.reference_draws()\n",
    "df = pd.DataFrame(gs)\n",
    "gs_chains = np.zeros((sum(flat(posterior.information['dimensions'].values())),\\\n",
    "                       posterior.reference_draws_info()['diagnostics']['ndraws']))\n",
    "for i in range(len(df.keys())):\n",
    "    s = []\n",
    "    for j in range(len(df[df.keys()[i]])):\n",
    "        s += df[df.keys()[i]][j]\n",
    "    gs_chains[i, :] = s\n",
    "linv = np.linalg.inv(np.cov(gs_chains))\n",
    "\n",
    "# Extract log-P-pdf and its gradient\n",
    "log_p = model.log_density\n",
    "grad_log_p = lambda x: model.log_density_gradient(x)[1]\n",
    "hess_log_p = lambda x: model.log_density_hessian(x)[2]"
   ]
  },
  {
   "cell_type": "code",
   "execution_count": null,
   "metadata": {},
   "outputs": [],
   "source": [
    "# Test manual IMQ class\n",
    "dim = model.param_num()\n",
    "x_test = np.random.normal(size=dim)\n",
    "\n",
    "test_manual_imq = QTargetIMQ(log_p=log_p, grad_log_p=grad_log_p, hess_log_p=hess_log_p, linv=linv)\n",
    "\n",
    "print(\"log-pdf   :\", test_manual_imq.log_p(x_test))\n",
    "print(\"glog-pdf  :\", test_manual_imq.grad_log_p(x_test))\n",
    "print(\"hlog-pdf  :\", test_manual_imq.hess_log_p(x_test))\n",
    "print(\"log-q-pdf :\", test_manual_imq.log_q(x_test))\n",
    "print(\"glog-q-pdf:\", test_manual_imq.grad_log_q(x_test))"
   ]
  },
  {
   "cell_type": "code",
   "execution_count": null,
   "metadata": {},
   "outputs": [],
   "source": [
    "# Test manual KGM class\n",
    "dim = model.param_num()\n",
    "x_test = np.random.normal(size=dim)\n",
    "\n",
    "test_manual_kgm = QTargetKGM(log_p=log_p, grad_log_p=grad_log_p, hess_log_p=hess_log_p, linv=linv, s=3.0)\n",
    "\n",
    "print(\"log-pdf   :\", test_manual_kgm.log_p(x_test))\n",
    "print(\"glog-pdf  :\", test_manual_kgm.grad_log_p(x_test))\n",
    "print(\"hlog-pdf  :\", test_manual_kgm.hess_log_p(x_test))\n",
    "print(\"log-q-pdf :\", test_manual_kgm.log_q(x_test))\n",
    "print(\"glog-q-pdf:\", test_manual_kgm.grad_log_q(x_test))"
   ]
  },
  {
   "cell_type": "code",
   "execution_count": null,
   "metadata": {},
   "outputs": [],
   "source": []
  }
 ],
 "metadata": {
  "kernelspec": {
   "display_name": "stein-q-thinning",
   "language": "python",
   "name": "python3"
  },
  "language_info": {
   "codemirror_mode": {
    "name": "ipython",
    "version": 3
   },
   "file_extension": ".py",
   "mimetype": "text/x-python",
   "name": "python",
   "nbconvert_exporter": "python",
   "pygments_lexer": "ipython3",
   "version": "3.10.4"
  },
  "orig_nbformat": 4
 },
 "nbformat": 4,
 "nbformat_minor": 2
}
