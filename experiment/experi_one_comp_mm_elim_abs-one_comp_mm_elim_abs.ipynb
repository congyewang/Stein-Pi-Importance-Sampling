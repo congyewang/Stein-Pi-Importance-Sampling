{
 "cells": [
  {
   "cell_type": "code",
   "execution_count": 1,
   "metadata": {},
   "outputs": [],
   "source": [
    "from posteriordb import PosteriorDatabase\n",
    "import os\n",
    "import json\n",
    "import bridgestan as bs\n",
    "\n",
    "import numpy as np\n",
    "import pandas as pd\n",
    "import matplotlib.pyplot as plt\n",
    "import seaborn as sns\n",
    "\n",
    "from stein_thinning.stein import ksd\n",
    "from stein_thinning.thinning import thin\n",
    "from stein_thinning.kernel import make_imq, make_centkgm\n",
    "\n",
    "from stein_pi_thinning.target import PiTargetCentKGM\n",
    "from stein_pi_thinning.mcmc import mala_adapt\n",
    "from stein_pi_thinning.util import flat\n",
    "from stein_pi_thinning.progress_bar import disable_progress_bar\n",
    "\n",
    "import wasserstein\n",
    "\n",
    "\n",
    "np.random.seed(1234)\n",
    "disable_progress_bar()"
   ]
  },
  {
   "attachments": {},
   "cell_type": "markdown",
   "metadata": {},
   "source": [
    "### Model Preparation"
   ]
  },
  {
   "cell_type": "code",
   "execution_count": 2,
   "metadata": {},
   "outputs": [
    {
     "ename": "RuntimeError",
     "evalue": "Command make STANCFLAGS=--include-paths=. /home/congye/Code/PythonProjects/Stein-Pi-Thinning/posteriordb/posterior_database/models/stan/one_comp_mm_elim_abs_model.so failed with code 2.\nstdout:\n\n--- Compiling C++ code ---\ng++ -std=c++1y -pthread -D_REENTRANT -Wno-sign-compare -Wno-ignored-attributes      -I ./stan/lib/stan_math/lib/tbb_2020.3/include    -O3 -I ./stan/src -I ./stan/lib/rapidjson_1.1.0/ -I ./stan/lib/stan_math/ -I ./stan/lib/stan_math/lib/eigen_3.3.9 -I ./stan/lib/stan_math/lib/boost_1.78.0 -I ./stan/lib/stan_math/lib/sundials_6.1.1/include -I ./stan/lib/stan_math/lib/sundials_6.1.1/src/sundials -fPIC    -DBOOST_DISABLE_ASSERTS          -c -x c++ -o /home/congye/Code/PythonProjects/Stein-Pi-Thinning/posteriordb/posterior_database/models/stan/one_comp_mm_elim_abs.o /home/congye/Code/PythonProjects/Stein-Pi-Thinning/posteriordb/posterior_database/models/stan/one_comp_mm_elim_abs.hpp\n--- Linking C++ code ---\ng++ -std=c++1y -pthread -D_REENTRANT -Wno-sign-compare -Wno-ignored-attributes      -I ./stan/lib/stan_math/lib/tbb_2020.3/include    -O3 -I ./stan/src -I ./stan/lib/rapidjson_1.1.0/ -I ./stan/lib/stan_math/ -I ./stan/lib/stan_math/lib/eigen_3.3.9 -I ./stan/lib/stan_math/lib/boost_1.78.0 -I ./stan/lib/stan_math/lib/sundials_6.1.1/include -I ./stan/lib/stan_math/lib/sundials_6.1.1/src/sundials -fPIC    -DBOOST_DISABLE_ASSERTS                -Wl,-L,\"/home/congye/.bridgestan/bridgestan-1.0.2/stan/lib/stan_math/lib/tbb\" -Wl,-rpath,\"/home/congye/.bridgestan/bridgestan-1.0.2/stan/lib/stan_math/lib/tbb\"      -shared -lm -o  /home/congye/Code/PythonProjects/Stein-Pi-Thinning/posteriordb/posterior_database/models/stan/one_comp_mm_elim_abs_model.so /home/congye/Code/PythonProjects/Stein-Pi-Thinning/posteriordb/posterior_database/models/stan/one_comp_mm_elim_abs.o ./src/bridgestan.o        -Wl,-L,\"/home/congye/.bridgestan/bridgestan-1.0.2/stan/lib/stan_math/lib/tbb\" -Wl,-rpath,\"/home/congye/.bridgestan/bridgestan-1.0.2/stan/lib/stan_math/lib/tbb\"   ./stan/lib/stan_math/lib/sundials_6.1.1/lib/libsundials_nvecserial.a ./stan/lib/stan_math/lib/sundials_6.1.1/lib/libsundials_cvodes.a ./stan/lib/stan_math/lib/sundials_6.1.1/lib/libsundials_idas.a ./stan/lib/stan_math/lib/sundials_6.1.1/lib/libsundials_kinsol.a  ./stan/lib/stan_math/lib/tbb/libtbb.so.2\n\nstderr:\n/usr/bin/ld: ./stan/lib/stan_math/lib/sundials_6.1.1/lib/libsundials_nvecserial.a(nvector_serial.o): warning: relocation against `N_VBufSize_Serial' in read-only section `.text'\n/usr/bin/ld: ./stan/lib/stan_math/lib/sundials_6.1.1/lib/libsundials_cvodes.a(cvodes.o): relocation R_X86_64_PC32 against symbol `cvErrHandler' can not be used when making a shared object; recompile with -fPIC\n/usr/bin/ld: final link failed: bad value\ncollect2: error: ld returned 1 exit status\nmake: *** [Makefile:64: /home/congye/Code/PythonProjects/Stein-Pi-Thinning/posteriordb/posterior_database/models/stan/one_comp_mm_elim_abs_model.so] Error 1\n",
     "output_type": "error",
     "traceback": [
      "\u001b[0;31m---------------------------------------------------------------------------\u001b[0m",
      "\u001b[0;31mRuntimeError\u001b[0m                              Traceback (most recent call last)",
      "Cell \u001b[0;32mIn[2], line 9\u001b[0m\n\u001b[1;32m      7\u001b[0m stan \u001b[39m=\u001b[39m posterior\u001b[39m.\u001b[39mmodel\u001b[39m.\u001b[39mstan_code_file_path()\n\u001b[1;32m      8\u001b[0m data \u001b[39m=\u001b[39m json\u001b[39m.\u001b[39mdumps(posterior\u001b[39m.\u001b[39mdata\u001b[39m.\u001b[39mvalues())\n\u001b[0;32m----> 9\u001b[0m model \u001b[39m=\u001b[39m bs\u001b[39m.\u001b[39;49mStanModel\u001b[39m.\u001b[39;49mfrom_stan_file(stan, data)\n",
      "File \u001b[0;32m~/Software/anaconda3/envs/stein-q-thinning/lib/python3.10/site-packages/bridgestan/model.py:198\u001b[0m, in \u001b[0;36mStanModel.from_stan_file\u001b[0;34m(cls, stan_file, model_data, stanc_args, make_args, seed, chain_id)\u001b[0m\n\u001b[1;32m    165\u001b[0m \u001b[39m@classmethod\u001b[39m\n\u001b[1;32m    166\u001b[0m \u001b[39mdef\u001b[39;00m \u001b[39mfrom_stan_file\u001b[39m(\n\u001b[1;32m    167\u001b[0m     \u001b[39mcls\u001b[39m,\n\u001b[0;32m   (...)\u001b[0m\n\u001b[1;32m    174\u001b[0m     chain_id: \u001b[39mint\u001b[39m \u001b[39m=\u001b[39m \u001b[39m0\u001b[39m,\n\u001b[1;32m    175\u001b[0m ):\n\u001b[1;32m    176\u001b[0m     \u001b[39m\"\"\"\u001b[39;00m\n\u001b[1;32m    177\u001b[0m \u001b[39m    Construct a StanModel instance from a ``.stan`` file, compiling if necessary.\u001b[39;00m\n\u001b[1;32m    178\u001b[0m \n\u001b[0;32m   (...)\u001b[0m\n\u001b[1;32m    196\u001b[0m \u001b[39m    :raises RuntimeError: If compilation fails.\u001b[39;00m\n\u001b[1;32m    197\u001b[0m \u001b[39m    \"\"\"\u001b[39;00m\n\u001b[0;32m--> 198\u001b[0m     result \u001b[39m=\u001b[39m compile_model(stan_file, stanc_args\u001b[39m=\u001b[39;49mstanc_args, make_args\u001b[39m=\u001b[39;49mmake_args)\n\u001b[1;32m    199\u001b[0m     \u001b[39mreturn\u001b[39;00m \u001b[39mcls\u001b[39m(\u001b[39mstr\u001b[39m(result), model_data, seed\u001b[39m=\u001b[39mseed, chain_id\u001b[39m=\u001b[39mchain_id)\n",
      "File \u001b[0;32m~/Software/anaconda3/envs/stein-q-thinning/lib/python3.10/site-packages/bridgestan/compile.py:119\u001b[0m, in \u001b[0;36mcompile_model\u001b[0;34m(stan_file, stanc_args, make_args)\u001b[0m\n\u001b[1;32m    113\u001b[0m \u001b[39mif\u001b[39;00m proc\u001b[39m.\u001b[39mreturncode:\n\u001b[1;32m    114\u001b[0m     error \u001b[39m=\u001b[39m (\n\u001b[1;32m    115\u001b[0m         \u001b[39mf\u001b[39m\u001b[39m\"\u001b[39m\u001b[39mCommand \u001b[39m\u001b[39m{\u001b[39;00m\u001b[39m'\u001b[39m\u001b[39m \u001b[39m\u001b[39m'\u001b[39m\u001b[39m.\u001b[39mjoin(cmd)\u001b[39m}\u001b[39;00m\u001b[39m failed with code \u001b[39m\u001b[39m{\u001b[39;00mproc\u001b[39m.\u001b[39mreturncode\u001b[39m}\u001b[39;00m\u001b[39m.\u001b[39m\u001b[39m\\n\u001b[39;00m\u001b[39m\"\u001b[39m\n\u001b[1;32m    116\u001b[0m         \u001b[39mf\u001b[39m\u001b[39m\"\u001b[39m\u001b[39mstdout:\u001b[39m\u001b[39m\\n\u001b[39;00m\u001b[39m{\u001b[39;00mproc\u001b[39m.\u001b[39mstdout\u001b[39m}\u001b[39;00m\u001b[39m\\n\u001b[39;00m\u001b[39mstderr:\u001b[39m\u001b[39m\\n\u001b[39;00m\u001b[39m{\u001b[39;00mproc\u001b[39m.\u001b[39mstderr\u001b[39m}\u001b[39;00m\u001b[39m\"\u001b[39m\n\u001b[1;32m    117\u001b[0m     )\n\u001b[0;32m--> 119\u001b[0m     \u001b[39mraise\u001b[39;00m \u001b[39mRuntimeError\u001b[39;00m(error)\n\u001b[1;32m    120\u001b[0m \u001b[39mreturn\u001b[39;00m output\n",
      "\u001b[0;31mRuntimeError\u001b[0m: Command make STANCFLAGS=--include-paths=. /home/congye/Code/PythonProjects/Stein-Pi-Thinning/posteriordb/posterior_database/models/stan/one_comp_mm_elim_abs_model.so failed with code 2.\nstdout:\n\n--- Compiling C++ code ---\ng++ -std=c++1y -pthread -D_REENTRANT -Wno-sign-compare -Wno-ignored-attributes      -I ./stan/lib/stan_math/lib/tbb_2020.3/include    -O3 -I ./stan/src -I ./stan/lib/rapidjson_1.1.0/ -I ./stan/lib/stan_math/ -I ./stan/lib/stan_math/lib/eigen_3.3.9 -I ./stan/lib/stan_math/lib/boost_1.78.0 -I ./stan/lib/stan_math/lib/sundials_6.1.1/include -I ./stan/lib/stan_math/lib/sundials_6.1.1/src/sundials -fPIC    -DBOOST_DISABLE_ASSERTS          -c -x c++ -o /home/congye/Code/PythonProjects/Stein-Pi-Thinning/posteriordb/posterior_database/models/stan/one_comp_mm_elim_abs.o /home/congye/Code/PythonProjects/Stein-Pi-Thinning/posteriordb/posterior_database/models/stan/one_comp_mm_elim_abs.hpp\n--- Linking C++ code ---\ng++ -std=c++1y -pthread -D_REENTRANT -Wno-sign-compare -Wno-ignored-attributes      -I ./stan/lib/stan_math/lib/tbb_2020.3/include    -O3 -I ./stan/src -I ./stan/lib/rapidjson_1.1.0/ -I ./stan/lib/stan_math/ -I ./stan/lib/stan_math/lib/eigen_3.3.9 -I ./stan/lib/stan_math/lib/boost_1.78.0 -I ./stan/lib/stan_math/lib/sundials_6.1.1/include -I ./stan/lib/stan_math/lib/sundials_6.1.1/src/sundials -fPIC    -DBOOST_DISABLE_ASSERTS                -Wl,-L,\"/home/congye/.bridgestan/bridgestan-1.0.2/stan/lib/stan_math/lib/tbb\" -Wl,-rpath,\"/home/congye/.bridgestan/bridgestan-1.0.2/stan/lib/stan_math/lib/tbb\"      -shared -lm -o  /home/congye/Code/PythonProjects/Stein-Pi-Thinning/posteriordb/posterior_database/models/stan/one_comp_mm_elim_abs_model.so /home/congye/Code/PythonProjects/Stein-Pi-Thinning/posteriordb/posterior_database/models/stan/one_comp_mm_elim_abs.o ./src/bridgestan.o        -Wl,-L,\"/home/congye/.bridgestan/bridgestan-1.0.2/stan/lib/stan_math/lib/tbb\" -Wl,-rpath,\"/home/congye/.bridgestan/bridgestan-1.0.2/stan/lib/stan_math/lib/tbb\"   ./stan/lib/stan_math/lib/sundials_6.1.1/lib/libsundials_nvecserial.a ./stan/lib/stan_math/lib/sundials_6.1.1/lib/libsundials_cvodes.a ./stan/lib/stan_math/lib/sundials_6.1.1/lib/libsundials_idas.a ./stan/lib/stan_math/lib/sundials_6.1.1/lib/libsundials_kinsol.a  ./stan/lib/stan_math/lib/tbb/libtbb.so.2\n\nstderr:\n/usr/bin/ld: ./stan/lib/stan_math/lib/sundials_6.1.1/lib/libsundials_nvecserial.a(nvector_serial.o): warning: relocation against `N_VBufSize_Serial' in read-only section `.text'\n/usr/bin/ld: ./stan/lib/stan_math/lib/sundials_6.1.1/lib/libsundials_cvodes.a(cvodes.o): relocation R_X86_64_PC32 against symbol `cvErrHandler' can not be used when making a shared object; recompile with -fPIC\n/usr/bin/ld: final link failed: bad value\ncollect2: error: ld returned 1 exit status\nmake: *** [Makefile:64: /home/congye/Code/PythonProjects/Stein-Pi-Thinning/posteriordb/posterior_database/models/stan/one_comp_mm_elim_abs_model.so] Error 1\n"
     ]
    }
   ],
   "source": [
    "# Load DataBase Locally\n",
    "pdb_path = os.path.join(\"../posteriordb/posterior_database\")\n",
    "my_pdb = PosteriorDatabase(pdb_path)\n",
    "\n",
    "# Load Dataset\n",
    "posterior = my_pdb.posterior(\"one_comp_mm_elim_abs-one_comp_mm_elim_abs\")\n",
    "stan = posterior.model.stan_code_file_path()\n",
    "data = json.dumps(posterior.data.values())\n",
    "model = bs.StanModel.from_stan_file(stan, data)"
   ]
  },
  {
   "cell_type": "code",
   "execution_count": null,
   "metadata": {},
   "outputs": [],
   "source": [
    "# Gold Standard\n",
    "gs = posterior.reference_draws()\n",
    "df = pd.DataFrame(gs)\n",
    "gs_chains = np.zeros((sum(flat(posterior.information['dimensions'].values())),\\\n",
    "                       posterior.reference_draws_info()['diagnostics']['ndraws']))\n",
    "for i in range(len(df.keys())):\n",
    "    s = []\n",
    "    for j in range(len(df[df.keys()[i]])):\n",
    "        s += df[df.keys()[i]][j]\n",
    "    gs_chains[i, :] = s\n",
    "\n",
    "gs_matrix = np.array([df.values[0,i] for i in range(df.shape[1])]).T"
   ]
  },
  {
   "cell_type": "markdown",
   "metadata": {},
   "source": [
    "### P Target and Q Target"
   ]
  },
  {
   "cell_type": "code",
   "execution_count": null,
   "metadata": {},
   "outputs": [],
   "source": [
    "# Extract log-P-pdf and its gradient\n",
    "log_p = model.log_density\n",
    "grad_log_p = lambda x: model.log_density_gradient(x)[1]\n",
    "hess_log_p = lambda x: model.log_density_hessian(x)[2]"
   ]
  },
  {
   "cell_type": "code",
   "execution_count": null,
   "metadata": {},
   "outputs": [],
   "source": [
    "# Construct log-Pi-pdf and its gradient\n",
    "# Using Centralised KGM kernel\n",
    "# linv is -Hessian Matrix at P mode\n",
    "\n",
    "# Stein Centralised KGM kernel\n",
    "dim = model.param_num()\n",
    "x_unconstrain_map = model.param_unconstrain(np.mean(gs_chains, axis=1))\n",
    "linv = -hess_log_p(x_unconstrain_map)\n",
    "s = 3.0\n",
    "\n",
    "stein_q_kgm = PiTargetCentKGM(log_p, grad_log_p, hess_log_p, linv, s, x_unconstrain_map)\n",
    "log_q = stein_q_kgm.log_q\n",
    "grad_log_q = stein_q_kgm.grad_log_q"
   ]
  },
  {
   "cell_type": "code",
   "execution_count": null,
   "metadata": {},
   "outputs": [],
   "source": [
    "# MALA With pre-conditioning\n",
    "# Parameters\n",
    "nits = 100_000 # the number of iterations\n",
    "\n",
    "alpha = 10 * [1]\n",
    "epoch = 9 * [1_000] + [nits]\n",
    "\n",
    "_, _, x_p_epoch, _, _, nacc_p = mala_adapt(log_p, grad_log_p, x_unconstrain_map, 1, np.eye(dim), alpha, epoch)\n",
    "print('acc_p =', np.mean(nacc_p[-1]))"
   ]
  },
  {
   "cell_type": "code",
   "execution_count": null,
   "metadata": {},
   "outputs": [],
   "source": [
    "_, _, x_q_epoch, _, _, nacc_q = mala_adapt(log_q, grad_log_q, x_unconstrain_map, 1, np.eye(dim), alpha, epoch)\n",
    "print('acc_q =', np.mean(nacc_q[-1]))"
   ]
  },
  {
   "cell_type": "code",
   "execution_count": null,
   "metadata": {},
   "outputs": [],
   "source": [
    "x_p_unconstrain = np.array(x_p_epoch[-1], dtype=np.float64)\n",
    "grad_x_p_unconstrain = np.array([grad_log_p(i) for i in x_p_unconstrain])\n",
    "\n",
    "x_q_unconstrain = np.array(x_q_epoch[-1], dtype=np.float64)\n",
    "grad_x_q_unconstrain = np.array([grad_log_p(i) for i in x_q_unconstrain])"
   ]
  },
  {
   "cell_type": "code",
   "execution_count": null,
   "metadata": {},
   "outputs": [],
   "source": [
    "for i in range(dim):\n",
    "    # plt.hist(x_p_unconstrain[:,i].flatten(), bins=100, density=True, alpha=0.5, label='p')\n",
    "    # plt.hist(x_q_unconstrain[:,i].flatten(), bins=100, density=True, alpha=0.5, label='q')\n",
    "    sns.kdeplot(x_p_unconstrain[:,i].flatten(), label='$P$', color=\"black\")\n",
    "    sns.kdeplot(x_q_unconstrain[:,i].flatten(), label='$\\Pi$', color=\"red\")\n",
    "\n",
    "    plt.title(f\"Parameter {i}\")\n",
    "    plt.legend()\n",
    "    plt.show()"
   ]
  },
  {
   "attachments": {},
   "cell_type": "markdown",
   "metadata": {},
   "source": [
    "### Thinning"
   ]
  },
  {
   "cell_type": "code",
   "execution_count": null,
   "metadata": {},
   "outputs": [],
   "source": [
    "fixed_ratio = 0.1\n",
    "iteration_list = [10, 20, 50, 100, 200, 500, 1000, 2000]\n",
    "\n",
    "#IMQ\n",
    "vfk0_imq = make_imq(x_p_unconstrain, grad_x_p_unconstrain, pre=linv)\n",
    "\n",
    "res_ksd_p_imq = []\n",
    "res_ksd_q_imq = []\n",
    "res_ksd_p_thinning_imq = []\n",
    "res_ksd_q_thinning_imq = []"
   ]
  },
  {
   "cell_type": "code",
   "execution_count": null,
   "metadata": {},
   "outputs": [],
   "source": [
    "# IMQ Thinning\n",
    "# Compute KSD\n",
    "for i in iteration_list:\n",
    "    thinning_number = int(fixed_ratio * i)\n",
    "\n",
    "    x_p_unconstrain_cutting = x_p_unconstrain[0:i,:]\n",
    "    x_q_unconstrain_cutting = x_q_unconstrain[0:i,:]\n",
    "    grad_x_p_unconstrain_cutting = grad_x_p_unconstrain[0:i,:]\n",
    "    grad_x_q_unconstrain_cutting = grad_x_q_unconstrain[0:i,:]\n",
    "\n",
    "    idx_p = thin(x_p_unconstrain_cutting,\\\n",
    "                    grad_x_p_unconstrain_cutting,\\\n",
    "                    thinning_number,\\\n",
    "                    pre=linv,\\\n",
    "                    stnd=False)\n",
    "    idx_q = thin(x_q_unconstrain_cutting,\\\n",
    "                    grad_x_q_unconstrain_cutting,\\\n",
    "                    thinning_number,\\\n",
    "                    pre=linv,\\\n",
    "                    stnd=False)\n",
    "\n",
    "    x_p_thinning_unconstrain_cutting = x_p_unconstrain_cutting[idx_p]\n",
    "    grad_x_p_thinning_unconstrain_cutting = grad_x_p_unconstrain_cutting[idx_p]\n",
    "\n",
    "    x_q_thinning_unconstrain_cutting = x_q_unconstrain_cutting[idx_p]\n",
    "    grad_x_q_thinning_unconstrain_cutting = grad_x_q_unconstrain_cutting[idx_p]\n",
    "\n",
    "    ks_p = ksd(x_p_unconstrain_cutting, grad_x_p_unconstrain_cutting, vfk0_imq)\n",
    "    ks_p_thinning = ksd(x_p_thinning_unconstrain_cutting, grad_x_p_thinning_unconstrain_cutting, vfk0_imq)\n",
    "\n",
    "    ks_q = ksd(x_q_unconstrain_cutting, grad_x_q_unconstrain_cutting, vfk0_imq)\n",
    "    ks_q_thinning = ksd(x_q_thinning_unconstrain_cutting, grad_x_q_thinning_unconstrain_cutting, vfk0_imq)\n",
    "\n",
    "    print(i, ks_p_thinning[-1])\n",
    "    print(i, ks_q_thinning[-1])\n",
    "\n",
    "    res_ksd_p_imq.append(ks_p[-1])\n",
    "    res_ksd_q_imq.append(ks_q[-1])\n",
    "\n",
    "    res_ksd_p_thinning_imq.append(ks_p_thinning[-1])\n",
    "    res_ksd_q_thinning_imq.append(ks_q_thinning[-1])"
   ]
  },
  {
   "cell_type": "code",
   "execution_count": null,
   "metadata": {},
   "outputs": [],
   "source": [
    "plt.loglog(iteration_list, res_ksd_p_imq, label=\"MALA\", marker=\".\")\n",
    "# plt.loglog(iteration_list, res_ksd_q_imq, label=\"$Pi$\", marker=\".\")\n",
    "plt.loglog(iteration_list, res_ksd_p_thinning_imq, label=\"ST-MALA\", marker=\".\")\n",
    "plt.loglog(iteration_list, res_ksd_q_thinning_imq, label=\"S$\\Pi$T-MALA\", marker=\".\")\n",
    "plt.legend()"
   ]
  },
  {
   "cell_type": "code",
   "execution_count": null,
   "metadata": {},
   "outputs": [],
   "source": [
    "#KGM\n",
    "vfk0_centkgm = make_centkgm(x_p_unconstrain, grad_x_p_unconstrain, x_map=x_unconstrain_map, pre=linv, s=s)\n",
    "\n",
    "res_ksd_p_centkgm = []\n",
    "res_ksd_q_centkgm = []\n",
    "res_ksd_p_thinning_centkgm = []\n",
    "res_ksd_q_thinning_centkgm = []"
   ]
  },
  {
   "cell_type": "code",
   "execution_count": null,
   "metadata": {},
   "outputs": [],
   "source": [
    "# KGM Thinning\n",
    "# Compute KSD\n",
    "for i in iteration_list:\n",
    "    thinning_number = int(fixed_ratio * i)\n",
    "\n",
    "    # print(f\"No.{i} Index Calculation Begin\")\n",
    "\n",
    "    x_p_unconstrain_cutting = x_p_unconstrain[0:i,:]\n",
    "    x_q_unconstrain_cutting = x_q_unconstrain[0:i,:]\n",
    "    grad_x_p_unconstrain_cutting = grad_x_p_unconstrain[0:i,:]\n",
    "    grad_x_q_unconstrain_cutting = grad_x_q_unconstrain[0:i,:]\n",
    "\n",
    "    idx_p = thin(x_p_unconstrain_cutting,\\\n",
    "                    grad_x_p_unconstrain_cutting,\\\n",
    "                    thinning_number,\\\n",
    "                    pre=linv,\\\n",
    "                    stnd=False,\n",
    "                    kern='centkgm',\n",
    "                    xmp=x_unconstrain_map\n",
    "                    )\n",
    "    idx_q = thin(x_q_unconstrain_cutting,\\\n",
    "                    grad_x_q_unconstrain_cutting,\\\n",
    "                    thinning_number,\\\n",
    "                    pre=linv,\\\n",
    "                    stnd=False,\n",
    "                    kern='centkgm',\n",
    "                    xmp=x_unconstrain_map)\n",
    "\n",
    "    x_p_thinning_unconstrain_cutting = x_p_unconstrain_cutting[idx_p]\n",
    "    grad_x_p_thinning_unconstrain_cutting = grad_x_p_unconstrain_cutting[idx_p]\n",
    "\n",
    "    x_q_thinning_unconstrain_cutting = x_q_unconstrain_cutting[idx_p]\n",
    "    grad_x_q_thinning_unconstrain_cutting = grad_x_q_unconstrain_cutting[idx_p]\n",
    "\n",
    "    ks_p = ksd(x_p_unconstrain_cutting, grad_x_p_unconstrain_cutting, vfk0_centkgm)\n",
    "    ks_p_thinning = ksd(x_p_thinning_unconstrain_cutting, grad_x_p_thinning_unconstrain_cutting, vfk0_centkgm)\n",
    "\n",
    "    ks_q = ksd(x_q_unconstrain_cutting, grad_x_q_unconstrain_cutting, vfk0_centkgm)\n",
    "    ks_q_thinning = ksd(x_q_thinning_unconstrain_cutting, grad_x_q_thinning_unconstrain_cutting, vfk0_centkgm)\n",
    "\n",
    "    print(i, ks_p_thinning[-1])\n",
    "    print(i, ks_q_thinning[-1])\n",
    "\n",
    "    res_ksd_p_centkgm.append(ks_p[-1])\n",
    "    res_ksd_q_centkgm.append(ks_q[-1])\n",
    "\n",
    "    res_ksd_p_thinning_centkgm.append(ks_p_thinning[-1])\n",
    "    res_ksd_q_thinning_centkgm.append(ks_q_thinning[-1])"
   ]
  },
  {
   "cell_type": "code",
   "execution_count": null,
   "metadata": {},
   "outputs": [],
   "source": [
    "plt.loglog(iteration_list, res_ksd_p_centkgm, label=\"MALA\", marker=\".\")\n",
    "# plt.loglog(iteration_list, res_ksd_q_centkgm, label=\"$Pi$\", marker=\".\")\n",
    "plt.loglog(iteration_list, res_ksd_p_thinning_centkgm, label=\"ST-MALA\", marker=\".\")\n",
    "plt.loglog(iteration_list, res_ksd_q_thinning_centkgm, label=\"S$\\Pi$T-MALA\", marker=\".\")\n",
    "plt.legend()"
   ]
  },
  {
   "cell_type": "code",
   "execution_count": null,
   "metadata": {},
   "outputs": [],
   "source": [
    "plt.loglog(iteration_list, res_ksd_p_thinning_imq, marker=\".\", color=\"red\", linestyle=\"-\", label=\"P (Langevin)\")\n",
    "plt.loglog(iteration_list, res_ksd_q_thinning_imq, marker=\".\", color=\"red\", linestyle=\"--\", label=\"$\\Pi$ (Langevin)\")\n",
    "\n",
    "plt.loglog(iteration_list, res_ksd_p_thinning_centkgm, marker=\".\", color=\"blue\", linestyle=\"-\", label=\"P (KGM3)\")\n",
    "plt.loglog(iteration_list, res_ksd_q_thinning_centkgm, marker=\".\", color=\"blue\", linestyle=\"--\", label=\"$\\Pi$ (KGM3)\")\n",
    "\n",
    "plt.xlabel('$n$')\n",
    "plt.ylabel(r'$\\bf{E}$[$KSD$]')\n",
    "plt.legend()"
   ]
  },
  {
   "attachments": {},
   "cell_type": "markdown",
   "metadata": {},
   "source": [
    "### WasserStein"
   ]
  },
  {
   "cell_type": "code",
   "execution_count": null,
   "metadata": {},
   "outputs": [],
   "source": [
    "gs = np.zeros_like(gs_chains.T)\n",
    "# gs = np.zeros_like(gs_matrix)\n",
    "\n",
    "for i in range(gs_chains.T.shape[0]):\n",
    "    gs[i] = model.param_unconstrain(gs_chains.T[i].astype(np.float64))\n",
    "# for i in range(gs_matrix.shape[0]):\n",
    "#     gs[i] = model.param_unconstrain(gs_matrix[i].astype(np.float64))\n",
    "emd = wasserstein.EMD(n_iter_max=1_000_000)\n",
    "gs_weights = np.repeat(1/gs.shape[0], gs.shape[0])"
   ]
  },
  {
   "cell_type": "code",
   "execution_count": null,
   "metadata": {},
   "outputs": [],
   "source": [
    "#IMQ\n",
    "res_wass_p_imq = []\n",
    "res_wass_q_imq = []\n",
    "res_wass_p_thinning_imq = []\n",
    "res_wass_q_thinning_imq = []"
   ]
  },
  {
   "cell_type": "code",
   "execution_count": null,
   "metadata": {},
   "outputs": [],
   "source": [
    "# IMQ Thinning\n",
    "# Compute WasserStein\n",
    "for i in iteration_list:\n",
    "    thinning_number = int(fixed_ratio * i)\n",
    "\n",
    "    x_p_unconstrain_cutting = x_p_unconstrain[0:i,:]\n",
    "    x_q_unconstrain_cutting = x_q_unconstrain[0:i,:]\n",
    "    grad_x_p_unconstrain_cutting = grad_x_p_unconstrain[0:i,:]\n",
    "    grad_x_q_unconstrain_cutting = grad_x_q_unconstrain[0:i,:]\n",
    "\n",
    "    idx_p = thin(x_p_unconstrain_cutting,\\\n",
    "                    grad_x_p_unconstrain_cutting,\\\n",
    "                    thinning_number,\\\n",
    "                    pre=linv,\\\n",
    "                    stnd=False)\n",
    "    idx_q = thin(x_q_unconstrain_cutting,\\\n",
    "                    grad_x_q_unconstrain_cutting,\\\n",
    "                    thinning_number,\\\n",
    "                    pre=linv,\\\n",
    "                    stnd=False)\n",
    "\n",
    "    x_p_thinning_unconstrain_cutting = x_p_unconstrain_cutting[idx_p]\n",
    "    # grad_x_p_thinning_unconstrain_cutting = grad_x_p_unconstrain_cutting[idx_p]\n",
    "\n",
    "    x_q_thinning_unconstrain_cutting = x_q_unconstrain_cutting[idx_p]\n",
    "    # grad_x_q_thinning_unconstrain_cutting = grad_x_q_unconstrain_cutting[idx_p]\n",
    "\n",
    "    original_weights = np.repeat(1/i, i)\n",
    "    thinning_weights = np.repeat(1/thinning_number, thinning_number)\n",
    "\n",
    "    wass_p = emd(original_weights, x_p_unconstrain_cutting, gs_weights, gs)\n",
    "    wass_p_thinning = emd(thinning_weights, x_p_thinning_unconstrain_cutting, gs_weights, gs)\n",
    "\n",
    "    wass_q = emd(original_weights, x_q_unconstrain_cutting, gs_weights, gs)\n",
    "    wass_q_thinning = emd(thinning_weights, x_q_thinning_unconstrain_cutting, gs_weights, gs)\n",
    "\n",
    "    print(i, wass_p_thinning)\n",
    "    print(i, wass_q_thinning)\n",
    "\n",
    "    res_wass_p_imq.append(wass_p)\n",
    "    res_wass_q_imq.append(wass_q)\n",
    "\n",
    "    res_wass_p_thinning_imq.append(wass_p_thinning)\n",
    "    res_wass_q_thinning_imq.append(wass_q_thinning)"
   ]
  },
  {
   "cell_type": "code",
   "execution_count": null,
   "metadata": {},
   "outputs": [],
   "source": [
    "plt.loglog(iteration_list, res_wass_p_imq, label=\"MALA\", marker=\".\")\n",
    "plt.loglog(iteration_list, res_wass_p_thinning_imq, label=\"ST-MALA\", marker=\".\")\n",
    "plt.loglog(iteration_list, res_wass_q_thinning_imq, label=\"S$\\Pi$T-MALA\", marker=\".\")\n",
    "plt.legend()"
   ]
  },
  {
   "cell_type": "code",
   "execution_count": null,
   "metadata": {},
   "outputs": [],
   "source": [
    "#KGM\n",
    "res_wass_p_centkgm = []\n",
    "res_wass_q_centkgm = []\n",
    "res_wass_p_thinning_centkgm = []\n",
    "res_wass_q_thinning_centkgm = []"
   ]
  },
  {
   "cell_type": "code",
   "execution_count": null,
   "metadata": {},
   "outputs": [],
   "source": [
    "# KGM Thinning\n",
    "# Compute WasserStein\n",
    "for i in iteration_list:\n",
    "    thinning_number = int(fixed_ratio * i)\n",
    "\n",
    "    x_p_unconstrain_cutting = x_p_unconstrain[0:i,:]\n",
    "    x_q_unconstrain_cutting = x_q_unconstrain[0:i,:]\n",
    "    grad_x_p_unconstrain_cutting = grad_x_p_unconstrain[0:i,:]\n",
    "    grad_x_q_unconstrain_cutting = grad_x_q_unconstrain[0:i,:]\n",
    "\n",
    "    idx_p = thin(x_p_unconstrain_cutting,\\\n",
    "                    grad_x_p_unconstrain_cutting,\\\n",
    "                    thinning_number,\\\n",
    "                    pre=linv,\\\n",
    "                    stnd=False,\n",
    "                    kern='centkgm',\n",
    "                    xmp=x_unconstrain_map\n",
    "                    )\n",
    "    idx_q = thin(x_q_unconstrain_cutting,\\\n",
    "                    grad_x_q_unconstrain_cutting,\\\n",
    "                    thinning_number,\\\n",
    "                    pre=linv,\\\n",
    "                    stnd=False,\n",
    "                    kern='centkgm',\n",
    "                    xmp=x_unconstrain_map)\n",
    "\n",
    "    x_p_thinning_unconstrain_cutting = x_p_unconstrain_cutting[idx_p]\n",
    "    # grad_x_p_thinning_unconstrain_cutting = grad_x_p_unconstrain_cutting[idx_p]\n",
    "\n",
    "    x_q_thinning_unconstrain_cutting = x_q_unconstrain_cutting[idx_p]\n",
    "    # grad_x_q_thinning_unconstrain_cutting = grad_x_q_unconstrain_cutting[idx_p]\n",
    "\n",
    "    original_weights = np.repeat(1/i, i)\n",
    "    thinning_weights = np.repeat(1/thinning_number, thinning_number)\n",
    "\n",
    "    wass_p = emd(original_weights, x_p_unconstrain_cutting, gs_weights, gs)\n",
    "    wass_p_thinning = emd(thinning_weights, x_p_thinning_unconstrain_cutting, gs_weights, gs)\n",
    "\n",
    "    wass_q = emd(original_weights, x_q_unconstrain_cutting, gs_weights, gs)\n",
    "    wass_q_thinning = emd(thinning_weights, x_q_thinning_unconstrain_cutting, gs_weights, gs)\n",
    "\n",
    "    print(i, wass_p_thinning)\n",
    "    print(i, wass_q_thinning)\n",
    "\n",
    "    res_wass_p_centkgm.append(wass_p)\n",
    "    res_wass_q_centkgm.append(wass_q)\n",
    "\n",
    "    res_wass_p_thinning_centkgm.append(wass_p_thinning)\n",
    "    res_wass_q_thinning_centkgm.append(wass_q_thinning)"
   ]
  },
  {
   "cell_type": "code",
   "execution_count": null,
   "metadata": {},
   "outputs": [],
   "source": [
    "plt.loglog(iteration_list, res_wass_p_centkgm, label=\"MALA\", marker=\".\")\n",
    "plt.loglog(iteration_list, res_wass_p_thinning_centkgm, label=\"ST-MALA\", marker=\".\")\n",
    "plt.loglog(iteration_list, res_wass_q_thinning_centkgm, label=\"S$\\Pi$T-MALA\", marker=\".\")\n",
    "plt.legend()"
   ]
  },
  {
   "cell_type": "code",
   "execution_count": null,
   "metadata": {},
   "outputs": [],
   "source": [
    "plt.loglog(iteration_list, res_wass_p_thinning_imq, marker=\".\", color=\"red\", linestyle=\"-\", label=\"P (Langevin)\")\n",
    "plt.loglog(iteration_list, res_wass_q_thinning_imq, marker=\".\", color=\"red\", linestyle=\"--\", label=\"$\\Pi$ (Langevin)\")\n",
    "\n",
    "plt.loglog(iteration_list, res_wass_p_thinning_centkgm, marker=\".\", color=\"blue\", linestyle=\"-\", label=\"P (KGM3)\")\n",
    "plt.loglog(iteration_list, res_wass_q_thinning_centkgm, marker=\".\", color=\"blue\", linestyle=\"--\", label=\"$\\Pi$ (KGM3)\")\n",
    "\n",
    "plt.xlabel('$n$')\n",
    "plt.ylabel(r'$\\bf{E}$[$WasserStein$]')\n",
    "plt.legend()"
   ]
  },
  {
   "cell_type": "code",
   "execution_count": null,
   "metadata": {},
   "outputs": [],
   "source": []
  }
 ],
 "metadata": {
  "kernelspec": {
   "display_name": "stein-q-thinning",
   "language": "python",
   "name": "python3"
  },
  "language_info": {
   "codemirror_mode": {
    "name": "ipython",
    "version": 3
   },
   "file_extension": ".py",
   "mimetype": "text/x-python",
   "name": "python",
   "nbconvert_exporter": "python",
   "pygments_lexer": "ipython3",
   "version": "3.10.4"
  },
  "orig_nbformat": 4
 },
 "nbformat": 4,
 "nbformat_minor": 2
}
